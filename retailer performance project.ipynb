{
 "cells": [
  {
   "cell_type": "code",
   "execution_count": 63,
   "id": "e8a35005-9407-4656-8581-ae4db8f1ce2f",
   "metadata": {},
   "outputs": [],
   "source": [
    "import pandas as pd\n",
    "import numpy as np\n",
    "import os\n",
    "import logging\n",
    "import time\n",
    "from sqlalchemy import create_engine\n",
    "\n",
    "# Ensure log folder exists\n",
    "os.makedirs(\"logs\", exist_ok=True)\n",
    "\n",
    "# Logging configuration\n",
    "logging.basicConfig(\n",
    "    filename=\"logs/ingestion_db.log\",\n",
    "    level=logging.DEBUG,\n",
    "    format=\"%(asctime)s - %(levelname)s - %(message)s\",\n",
    "    filemode=\"a\"\n",
    ")\n",
    "\n",
    "# Connect to SQLite DB\n",
    "engine = create_engine(\"sqlite:///inventory.db\")\n",
    "\n",
    "# Save DataFrame to database\n",
    "def ingest_db(df, table_name, engine):\n",
    "    try:\n",
    "        df.to_sql(table_name, con=engine, if_exists='replace', index=False)\n",
    "        logging.info(f\"Successfully ingested data into table: {table_name}\")\n",
    "    except Exception as e:\n",
    "        logging.error(f\"Failed to ingest {table_name}: {e}\")\n",
    "\n",
    "# Load CSV files from 'data' directory\n",
    "def load_raw_data():\n",
    "    start = time.time()\n",
    "    logging.info(\"Starting data ingestion...\")\n",
    "\n",
    "    for file in os.listdir(\"data\"):\n",
    "        if file.endswith(\".csv\"):\n",
    "            try:\n",
    "                df = pd.read_csv(os.path.join(\"data\", file))\n",
    "                logging.info(f'Ingesting file: {file}')\n",
    "                ingest_db(df, file[:-4], engine)\n",
    "            except Exception as e:\n",
    "                logging.error(f\"Error processing file {file}: {e}\")\n",
    "\n",
    "    end = time.time()\n",
    "    total_time = (end - start) / 60\n",
    "    logging.info(\"-------- Ingestion Complete --------\")\n",
    "    logging.info(f\"Total Time Taken: {total_time:.2f} minutes\")\n",
    "\n",
    "# Main entry point\n",
    "if __name__ == \"__main__\":\n",
    "    load_raw_data()"
   ]
  },
  {
   "cell_type": "code",
   "execution_count": null,
   "id": "44d4dbf9-0cf5-4015-88d6-5cdc7b12589a",
   "metadata": {},
   "outputs": [],
   "source": []
  }
 ],
 "metadata": {
  "kernelspec": {
   "display_name": "Python [conda env:base] *",
   "language": "python",
   "name": "conda-base-py"
  },
  "language_info": {
   "codemirror_mode": {
    "name": "ipython",
    "version": 3
   },
   "file_extension": ".py",
   "mimetype": "text/x-python",
   "name": "python",
   "nbconvert_exporter": "python",
   "pygments_lexer": "ipython3",
   "version": "3.13.5"
  }
 },
 "nbformat": 4,
 "nbformat_minor": 5
}
